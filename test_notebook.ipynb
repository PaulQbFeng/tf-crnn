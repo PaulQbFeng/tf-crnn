{
 "cells": [
  {
   "cell_type": "code",
   "execution_count": 1,
   "metadata": {},
   "outputs": [],
   "source": [
    "import sys\n",
    "sys.path.append('/notebooks/models/research/slim/')"
   ]
  },
  {
   "cell_type": "code",
   "execution_count": 2,
   "metadata": {},
   "outputs": [],
   "source": [
    "import argparse\n",
    "import os\n",
    "import numpy as np\n",
    "try:\n",
    "    import better_exceptions\n",
    "except ImportError:\n",
    "    pass\n",
    "import tensorflow as tf\n",
    "from src.model import crnn_fn\n",
    "from src.data_handler import make_input_fn\n",
    "from src.data_handler import preprocess_image_for_prediction\n",
    "\n",
    "from src.config import Params, import_params_from_json"
   ]
  },
  {
   "cell_type": "markdown",
   "metadata": {},
   "source": [
    "### Custom CNN"
   ]
  },
  {
   "cell_type": "code",
   "execution_count": 3,
   "metadata": {},
   "outputs": [],
   "source": [
    "def deep_cnn(input_imgs: tf.Tensor, is_training=False, summaries=False):\n",
    "    \n",
    "    input_tensor = input_imgs\n",
    "    if input_tensor.shape[-1] == 1:\n",
    "        input_channels = 1\n",
    "    elif input_tensor.shape[-1] == 3:\n",
    "        input_channels = 3\n",
    "    else:\n",
    "        raise NotImplementedError\n",
    "\n",
    "    # Following source code, not paper\n",
    "\n",
    "    with tf.variable_scope('deep_cnn'):\n",
    "        # - conv1 - maxPool2x2\n",
    "        with tf.variable_scope('layer1'):\n",
    "            W = weightVar([3, 3, input_channels, 64])\n",
    "            b = biasVar([64])\n",
    "            conv = conv2d(input_tensor, W, name='conv')\n",
    "            out = tf.nn.bias_add(conv, b)\n",
    "            conv1 = tf.nn.relu(out)\n",
    "            pool1 = tf.nn.max_pool(conv1, [1, 2, 2, 1], strides=[1, 2, 2, 1],\n",
    "                                   padding='SAME', name='pool')\n",
    "\n",
    "            if summaries:\n",
    "                weights = [var for var in tf.global_variables() if var.name == 'deep_cnn/layer1/weights:0'][0]\n",
    "                tf.summary.histogram('weights', weights)\n",
    "                bias = [var for var in tf.global_variables() if var.name == 'deep_cnn/layer1/bias:0'][0]\n",
    "                tf.summary.histogram('bias', bias)\n",
    "\n",
    "\n",
    "        # - conv2 - maxPool 2x2\n",
    "        with tf.variable_scope('layer2'):\n",
    "            W = weightVar([3, 3, 64, 128])\n",
    "            b = biasVar([128])\n",
    "            conv = conv2d(pool1, W)\n",
    "            out = tf.nn.bias_add(conv, b)\n",
    "            conv2 = tf.nn.relu(out)\n",
    "            pool2 = tf.nn.max_pool(conv2, [1, 2, 2, 1], strides=[1, 2, 2, 1],\n",
    "                                   padding='SAME', name='pool1')\n",
    "\n",
    "            if summaries:\n",
    "                weights = [var for var in tf.global_variables() if var.name == 'deep_cnn/layer2/weights:0'][0]\n",
    "                tf.summary.histogram('weights', weights)\n",
    "                bias = [var for var in tf.global_variables() if var.name == 'deep_cnn/layer2/bias:0'][0]\n",
    "                tf.summary.histogram('bias', bias)\n",
    "\n",
    "        # - conv3 - w/batch-norm (as source code, not paper)\n",
    "        with tf.variable_scope('layer3'):\n",
    "            W = weightVar([3, 3, 128, 256])\n",
    "            b = biasVar([256])\n",
    "            conv = conv2d(pool2, W)\n",
    "            out = tf.nn.bias_add(conv, b)\n",
    "            b_norm = tf.layers.batch_normalization(out, axis=-1,\n",
    "                                                   training=is_training, name='batch-norm')\n",
    "            conv3 = tf.nn.relu(b_norm, name='ReLU')\n",
    "\n",
    "            if summaries:\n",
    "                weights = [var for var in tf.global_variables() if var.name == 'deep_cnn/layer3/weights:0'][0]\n",
    "                tf.summary.histogram('weights', weights)\n",
    "                bias = [var for var in tf.global_variables() if var.name == 'deep_cnn/layer3/bias:0'][0]\n",
    "                tf.summary.histogram('bias', bias)\n",
    "\n",
    "        # - conv4 - maxPool 2x1\n",
    "        with tf.variable_scope('layer4'):\n",
    "            W = weightVar([3, 3, 256, 256])\n",
    "            b = biasVar([256])\n",
    "            conv = conv2d(conv3, W)\n",
    "            out = tf.nn.bias_add(conv, b)\n",
    "            conv4 = tf.nn.relu(out)\n",
    "            pool4 = tf.nn.max_pool(conv4, [1, 2, 2, 1], strides=[1, 2, 1, 1],\n",
    "                                   padding='SAME', name='pool4')\n",
    "\n",
    "            if summaries:\n",
    "                weights = [var for var in tf.global_variables() if var.name == 'deep_cnn/layer4/weights:0'][0]\n",
    "                tf.summary.histogram('weights', weights)\n",
    "                bias = [var for var in tf.global_variables() if var.name == 'deep_cnn/layer4/bias:0'][0]\n",
    "                tf.summary.histogram('bias', bias)\n",
    "\n",
    "        # - conv5 - w/batch-norm\n",
    "        with tf.variable_scope('layer5'):\n",
    "            W = weightVar([3, 3, 256, 512])\n",
    "            b = biasVar([512])\n",
    "            conv = conv2d(pool4, W)\n",
    "            out = tf.nn.bias_add(conv, b)\n",
    "            b_norm = tf.layers.batch_normalization(out, axis=-1,\n",
    "                                                   training=is_training, name='batch-norm')\n",
    "            conv5 = tf.nn.relu(b_norm)\n",
    "\n",
    "            if summaries:\n",
    "                weights = [var for var in tf.global_variables() if var.name == 'deep_cnn/layer5/weights:0'][0]\n",
    "                tf.summary.histogram('weights', weights)\n",
    "                bias = [var for var in tf.global_variables() if var.name == 'deep_cnn/layer5/bias:0'][0]\n",
    "                tf.summary.histogram('bias', bias)\n",
    "\n",
    "        # - conv6 - maxPool 2x1 (as source code, not paper)\n",
    "        with tf.variable_scope('layer6'):\n",
    "            W = weightVar([3, 3, 512, 512])\n",
    "            b = biasVar([512])\n",
    "            conv = conv2d(conv5, W)\n",
    "            out = tf.nn.bias_add(conv, b)\n",
    "            conv6 = tf.nn.relu(out)\n",
    "            pool6 = tf.nn.max_pool(conv6, [1, 2, 2, 1], strides=[1, 2, 1, 1],\n",
    "                                   padding='SAME', name='pool6')\n",
    "\n",
    "            if summaries:\n",
    "                weights = [var for var in tf.global_variables() if var.name == 'deep_cnn/layer6/weights:0'][0]\n",
    "                tf.summary.histogram('weights', weights)\n",
    "                bias = [var for var in tf.global_variables() if var.name == 'deep_cnn/layer6/bias:0'][0]\n",
    "                tf.summary.histogram('bias', bias)\n",
    "\n",
    "        # - conv 7 - w/batch-norm (as source code, not paper)\n",
    "        with tf.variable_scope('layer7'):\n",
    "            W = weightVar([2, 2, 512, 512])\n",
    "            b = biasVar([512])\n",
    "            conv = conv2d(pool6, W, padding='VALID')\n",
    "            out = tf.nn.bias_add(conv, b)\n",
    "            b_norm = tf.layers.batch_normalization(out, axis=-1,\n",
    "                                                   training=is_training, name='batch-norm')\n",
    "            conv7 = tf.nn.relu(b_norm)\n",
    "\n",
    "            if summaries:\n",
    "                weights = [var for var in tf.global_variables() if var.name == 'deep_cnn/layer7/weights:0'][0]\n",
    "                tf.summary.histogram('weights', weights)\n",
    "                bias = [var for var in tf.global_variables() if var.name == 'deep_cnn/layer7/bias:0'][0]\n",
    "                tf.summary.histogram('bias', bias)\n",
    "\n",
    "        cnn_net = conv7\n",
    "\n",
    "        with tf.variable_scope('Reshaping_cnn'):\n",
    "            shape = cnn_net.get_shape().as_list()  # [batch, height, width, features]\n",
    "            transposed = tf.transpose(cnn_net, perm=[0, 2, 1, 3],\n",
    "                                      name='transposed')  # [batch, width, height, features]\n",
    "            conv_reshaped = tf.reshape(transposed, [shape[0], -1, shape[1] * shape[3]],\n",
    "                                       name='reshaped')  # [batch, width, height x features]\n",
    "\n",
    "    return conv_reshaped"
   ]
  },
  {
   "cell_type": "code",
   "execution_count": 4,
   "metadata": {},
   "outputs": [],
   "source": [
    "import cv2\n",
    "import matplotlib.pyplot as plt"
   ]
  },
  {
   "cell_type": "code",
   "execution_count": 5,
   "metadata": {},
   "outputs": [],
   "source": [
    "cp /notebooks/samples/0.png /tmp"
   ]
  },
  {
   "cell_type": "code",
   "execution_count": 67,
   "metadata": {},
   "outputs": [],
   "source": [
    "from skimage import io, transform\n",
    "\n",
    "def resize_img(img):\n",
    "    return transform.rescale(img, 384 / img.shape[1], mode='constant', cval=255, clip=True, preserve_range=True)"
   ]
  },
  {
   "cell_type": "code",
   "execution_count": 69,
   "metadata": {},
   "outputs": [
    {
     "name": "stdout",
     "output_type": "stream",
     "text": [
      "(32, 256)\n",
      "(1, 48, 384, 1)\n"
     ]
    },
    {
     "data": {
      "image/png": "[encoded data removed]",
      "text/plain": [
       "<Figure size 432x288 with 1 Axes>"
      ]
     },
     "metadata": {
      "needs_background": "light"
     },
     "output_type": "display_data"
    }
   ],
   "source": [
    "img = cv2.imread('/tmp/0.png', 0)[:32,:256]\n",
    "plt.imshow(img)\n",
    "\n",
    "print(img.shape)\n",
    "img = resize_img(img).reshape(1,-1,384,1)\n",
    "# img = img.reshape(1,32,-1,1).astype(np.float32)\n",
    "\n",
    "\n",
    "print(img.shape)"
   ]
  },
  {
   "cell_type": "code",
   "execution_count": 8,
   "metadata": {},
   "outputs": [],
   "source": [
    "def weightVar(shape, mean=0.0, stddev=0.02, name='weights'):\n",
    "    init_w = tf.truncated_normal(shape=shape, mean=mean, stddev=stddev)\n",
    "    return tf.Variable(init_w, name=name)\n",
    "\n",
    "\n",
    "def biasVar(shape, value=0.0, name='bias'):\n",
    "    init_b = tf.constant(value=value, shape=shape)\n",
    "    return tf.Variable(init_b, name=name)\n",
    "\n",
    "\n",
    "def conv2d(input, filter, strides=[1, 1, 1, 1], padding='SAME', name=None):\n",
    "    return tf.nn.conv2d(input, filter, strides=strides, padding=padding, name=name)"
   ]
  },
  {
   "cell_type": "code",
   "execution_count": 9,
   "metadata": {},
   "outputs": [],
   "source": [
    "with tf.Graph().as_default():\n",
    "    conv = deep_cnn(img.astype(np.float32))"
   ]
  },
  {
   "cell_type": "code",
   "execution_count": 10,
   "metadata": {},
   "outputs": [
    {
     "data": {
      "text/plain": [
       "<tf.Tensor 'deep_cnn/Reshaping_cnn/reshaped:0' shape=(1, 31, 512) dtype=float32>"
      ]
     },
     "execution_count": 10,
     "metadata": {},
     "output_type": "execute_result"
    }
   ],
   "source": [
    "conv"
   ]
  },
  {
   "cell_type": "markdown",
   "metadata": {},
   "source": [
    "### Resnet-101 "
   ]
  },
  {
   "cell_type": "code",
   "execution_count": 12,
   "metadata": {},
   "outputs": [],
   "source": [
    "from nets.resnet_v1 import resnet_v1_101"
   ]
  },
  {
   "cell_type": "code",
   "execution_count": 43,
   "metadata": {},
   "outputs": [],
   "source": [
    "def reshape_cnn(cnn_input: tf.Tensor):\n",
    "    with tf.variable_scope('Reshaping_cnn'):\n",
    "        shape = cnn_input.get_shape().as_list()  # [batch, height, width, features]\n",
    "        transposed = tf.transpose(cnn_input, perm=[0, 2, 1, 3],\n",
    "                                  name='transposed')  # [batch, width, height, features]\n",
    "        conv_reshaped = tf.reshape(transposed, [shape[0], -1, shape[1] * shape[3]],\n",
    "                                   name='reshaped')  # [batch, width, height x features]\n",
    "    return conv_reshaped"
   ]
  },
  {
   "cell_type": "code",
   "execution_count": 73,
   "metadata": {},
   "outputs": [
    {
     "name": "stdout",
     "output_type": "stream",
     "text": [
      "Tensor(\"resnet_v1_101/block4/unit_3/bottleneck_v1/Relu:0\", shape=(1, 2, 12, 2048), dtype=float64)\n",
      "Tensor(\"Reshaping_cnn/reshaped:0\", shape=(1, 12, 4096), dtype=float64)\n"
     ]
    }
   ],
   "source": [
    "with tf.Graph().as_default():\n",
    "    conv_res,_ = resnet_v1_101(img, global_pool=False, on_text=False)\n",
    "    print(conv_res)\n",
    "    conv_res = reshape_cnn(conv_res)\n",
    "    print(conv_res)"
   ]
  },
  {
   "cell_type": "code",
   "execution_count": 19,
   "metadata": {},
   "outputs": [
    {
     "name": "stdout",
     "output_type": "stream",
     "text": [
      "Tensor(\"Reshaping_cnn/reshaped:0\", shape=(1, 4, 2048), dtype=float64)\n"
     ]
    }
   ],
   "source": [
    "print(conv_res)"
   ]
  },
  {
   "cell_type": "code",
   "execution_count": 70,
   "metadata": {},
   "outputs": [
    {
     "name": "stdout",
     "output_type": "stream",
     "text": [
      "Tensor(\"resnet_v1_101/block4/unit_3/bottleneck_v1/Relu:0\", shape=(1, 2, 95, 2048), dtype=float64)\n",
      "Tensor(\"Reshaping_cnn/reshaped:0\", shape=(1, 95, 4096), dtype=float64)\n"
     ]
    }
   ],
   "source": [
    "with tf.Graph().as_default():\n",
    "    conv_res_on_text,_ = resnet_v1_101(img, global_pool=False, on_text=True)\n",
    "    print(conv_res_on_text)\n",
    "    conv_res_on_text = reshape_cnn(conv_res_on_text)\n",
    "    print(conv_res_on_text)"
   ]
  },
  {
   "cell_type": "code",
   "execution_count": 30,
   "metadata": {},
   "outputs": [
    {
     "data": {
      "text/plain": [
       "<tf.Tensor 'Reshaping_cnn/reshaped:0' shape=(1, 64, 4096) dtype=float64>"
      ]
     },
     "execution_count": 30,
     "metadata": {},
     "output_type": "execute_result"
    }
   ],
   "source": [
    "conv_res_on_text"
   ]
  }
 ],
 "metadata": {
  "kernelspec": {
   "display_name": "Python 3",
   "language": "python",
   "name": "python3"
  },
  "language_info": {
   "codemirror_mode": {
    "name": "ipython",
    "version": 3
   },
   "file_extension": ".py",
   "mimetype": "text/x-python",
   "name": "python",
   "nbconvert_exporter": "python",
   "pygments_lexer": "ipython3",
   "version": "3.5.2"
  }
 },
 "nbformat": 4,
 "nbformat_minor": 2
}
